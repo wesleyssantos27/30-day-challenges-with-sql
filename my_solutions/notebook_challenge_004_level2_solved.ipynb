{
  "cells": [
    {
      "cell_type": "markdown",
      "id": "160bbfb2",
      "metadata": {
        "id": "160bbfb2"
      },
      "source": [
        "\n",
        "# Por favor tente resolver o desafio sozinho, não pegue atalhos, tu consegue, é só colocar a cabeça para funcionar."
      ]
    },
    {
      "cell_type": "markdown",
      "id": "e0e85531",
      "metadata": {
        "id": "e0e85531"
      },
      "source": [
        "Execute a célula abaixo apenas uma vez."
      ]
    },
    {
      "cell_type": "code",
      "execution_count": 67,
      "id": "7d725090",
      "metadata": {
        "id": "7d725090",
        "outputId": "ba97af29-6b7e-4a90-93f8-fda74f732dda",
        "colab": {
          "base_uri": "https://localhost:8080/"
        }
      },
      "outputs": [
        {
          "output_type": "stream",
          "name": "stderr",
          "text": [
            "Cloning into '30-day-challenges-with-sql'...\n"
          ]
        }
      ],
      "source": [
        "%%bash\n",
        "\n",
        "rm -rf /tmp/github; mkdir -p /tmp/github; cd /tmp/github\n",
        "git clone https://github.com/romeritomorais/30-day-challenges-with-sql.git\n",
        "sh /tmp/github/30-day-challenges-with-sql/challenges/utils/install-miniconda.sh > /dev/null 2>&1\n",
        "sh /tmp/github/30-day-challenges-with-sql/challenges/utils/update-miniconda.sh > /dev/null 2>&1"
      ]
    },
    {
      "cell_type": "markdown",
      "id": "467f1c4a",
      "metadata": {
        "id": "467f1c4a"
      },
      "source": [
        "Nesse desafio eu preciso apenas de campos numericos dos dados da coluna `Customer.PostalCode` de 8 posições e do tipo inteiro.\n",
        "\n",
        "\n",
        "resultado esperado:  \n",
        "\n",
        "|CustomerId|Address                        |State|Country|Postal_Code\n",
        "|----------:|------------------------------:|----:|------:|----------\n",
        "|         1|Av. Brigadeiro Faria Lima, 2170|SP   |Brazil |   12227000\n",
        "|        12|Praça Pio X, 119               |RJ   |Brazil |   20040020\n",
        "|        13|Qe 7 Bloco G                   |DF   |Brazil |   71020677\n",
        "|        20|541 Del Medio Avenue           |CA   |USA    |   94040111\n",
        "\n",
        "Na celula onde tem `%%sql` tu vai escrever a query abaixo dela, exemplo:  \n",
        "```python\n",
        "%%sql\n",
        "select * from Customer\n",
        "```\n",
        "\n",
        "Para resolução tu podes usar a documentação do sqlite:https://www.sqlite.org/docs.html"
      ]
    },
    {
      "cell_type": "code",
      "execution_count": 68,
      "id": "981a5488",
      "metadata": {
        "id": "981a5488",
        "outputId": "d8490989-f13f-47a5-ec8f-cedd16186c4d",
        "colab": {
          "base_uri": "https://localhost:8080/",
          "height": 70
        }
      },
      "outputs": [
        {
          "output_type": "stream",
          "name": "stdout",
          "text": [
            "The sql extension is already loaded. To reload it, use:\n",
            "  %reload_ext sql\n"
          ]
        },
        {
          "output_type": "execute_result",
          "data": {
            "text/plain": [
              "'Connected: @//tmp/github/30-day-challenges-with-sql/challenges/utils/db/database.db'"
            ],
            "application/vnd.google.colaboratory.intrinsic+json": {
              "type": "string"
            }
          },
          "metadata": {},
          "execution_count": 68
        }
      ],
      "source": [
        "%load_ext sql\n",
        "%sql sqlite://///tmp/github/30-day-challenges-with-sql/challenges/utils/db/database.db"
      ]
    },
    {
      "cell_type": "code",
      "execution_count": 70,
      "id": "275157e9",
      "metadata": {
        "id": "275157e9",
        "outputId": "83d21717-f7cd-427f-dd14-02b8160598aa",
        "colab": {
          "base_uri": "https://localhost:8080/",
          "height": 203
        }
      },
      "outputs": [
        {
          "output_type": "stream",
          "name": "stdout",
          "text": [
            " * sqlite://///tmp/github/30-day-challenges-with-sql/challenges/utils/db/database.db\n",
            "Done.\n"
          ]
        },
        {
          "output_type": "execute_result",
          "data": {
            "text/plain": [
              "[(1, 'Av. Brigadeiro Faria Lima, 2170', 'SP', 'Brazil', '12227000'),\n",
              " (10, 'Rua Dr. Falcão Filho, 155', 'SP', 'Brazil', '01007010'),\n",
              " (11, 'Av. Paulista, 2022', 'SP', 'Brazil', '01310200'),\n",
              " (12, 'Praça Pio X, 119', 'RJ', 'Brazil', '20040020'),\n",
              " (13, 'Qe 7 Bloco G', 'DF', 'Brazil', '71020677'),\n",
              " (20, '541 Del Medio Avenue', 'CA', 'USA', '94040111')]"
            ],
            "text/html": [
              "<table>\n",
              "    <thead>\n",
              "        <tr>\n",
              "            <th>CustomerId</th>\n",
              "            <th>Address</th>\n",
              "            <th>State</th>\n",
              "            <th>Country</th>\n",
              "            <th>Postal_Code</th>\n",
              "        </tr>\n",
              "    </thead>\n",
              "    <tbody>\n",
              "        <tr>\n",
              "            <td>1</td>\n",
              "            <td>Av. Brigadeiro Faria Lima, 2170</td>\n",
              "            <td>SP</td>\n",
              "            <td>Brazil</td>\n",
              "            <td>12227000</td>\n",
              "        </tr>\n",
              "        <tr>\n",
              "            <td>10</td>\n",
              "            <td>Rua Dr. Falcão Filho, 155</td>\n",
              "            <td>SP</td>\n",
              "            <td>Brazil</td>\n",
              "            <td>01007010</td>\n",
              "        </tr>\n",
              "        <tr>\n",
              "            <td>11</td>\n",
              "            <td>Av. Paulista, 2022</td>\n",
              "            <td>SP</td>\n",
              "            <td>Brazil</td>\n",
              "            <td>01310200</td>\n",
              "        </tr>\n",
              "        <tr>\n",
              "            <td>12</td>\n",
              "            <td>Praça Pio X, 119</td>\n",
              "            <td>RJ</td>\n",
              "            <td>Brazil</td>\n",
              "            <td>20040020</td>\n",
              "        </tr>\n",
              "        <tr>\n",
              "            <td>13</td>\n",
              "            <td>Qe 7 Bloco G</td>\n",
              "            <td>DF</td>\n",
              "            <td>Brazil</td>\n",
              "            <td>71020677</td>\n",
              "        </tr>\n",
              "        <tr>\n",
              "            <td>20</td>\n",
              "            <td>541 Del Medio Avenue</td>\n",
              "            <td>CA</td>\n",
              "            <td>USA</td>\n",
              "            <td>94040111</td>\n",
              "        </tr>\n",
              "    </tbody>\n",
              "</table>"
            ]
          },
          "metadata": {},
          "execution_count": 70
        }
      ],
      "source": [
        "%%sql\n",
        "--Utilizei a função replace para retirar o '-' e a regexp para identificar 8 caracteres numéricos\n",
        "select CustomerId, Address, State, Country, replace(PostalCode,'-','') as Postal_Code from Customer\n",
        "where replace(PostalCode,'-','') regexp '^[0-9][0-9][0-9][0-9][0-9][0-9][0-9][0-9]$'"
      ]
    }
  ],
  "metadata": {
    "kernelspec": {
      "display_name": "Python 3",
      "language": "python",
      "name": "python3"
    },
    "language_info": {
      "codemirror_mode": {
        "name": "ipython",
        "version": 3
      },
      "file_extension": ".py",
      "mimetype": "text/x-python",
      "name": "python",
      "nbconvert_exporter": "python",
      "pygments_lexer": "ipython3",
      "version": "3.10.4"
    },
    "colab": {
      "name": "notebook_challenge_004_level2.ipynb",
      "provenance": []
    }
  },
  "nbformat": 4,
  "nbformat_minor": 5
}