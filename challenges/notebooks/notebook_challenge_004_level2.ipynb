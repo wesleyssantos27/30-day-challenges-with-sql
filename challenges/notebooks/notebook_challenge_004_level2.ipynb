{
 "cells": [
  {
   "cell_type": "markdown",
   "id": "160bbfb2",
   "metadata": {},
   "source": [
    "\n",
    "# Por favor tente resolver o desafio sozinho, não pegue atalhos, tu consegue, é só colocar a cabeça para funcionar."
   ]
  },
  {
   "cell_type": "markdown",
   "id": "e0e85531",
   "metadata": {},
   "source": [
    "Execute a célula abaixo apenas uma vez."
   ]
  },
  {
   "cell_type": "code",
   "execution_count": null,
   "id": "7d725090",
   "metadata": {},
   "outputs": [],
   "source": [
    "%%bash\n",
    "\n",
    "rm -rf /tmp/github; mkdir -p /tmp/github; cd /tmp/github\n",
    "git clone https://github.com/romeritomorais/30-day-challenges-with-sql.git\n",
    "sh /tmp/github/30-day-challenges-with-sql/challenges/utils/install-miniconda.sh > /dev/null 2>&1\n",
    "sh /tmp/github/30-day-challenges-with-sql/challenges/utils/update-miniconda.sh > /dev/null 2>&1\n",
    "sh /tmp/github/30-day-challenges-with-sql/challenges/utils/upgrade-sqlite3.sh > /dev/null 2>&1"
   ]
  },
  {
   "cell_type": "markdown",
   "id": "467f1c4a",
   "metadata": {},
   "source": [
    "Neste desafio precisamos dos valores numéricos inteiros contidos na coluna `Customer.PostalCode`, que possuam 8 caracteres.\n",
    "\n",
    "resultado esperado:  \n",
    "\n",
    "|CustomerId|Address                        |State|Country|Postal_Code\n",
    "|----------:|------------------------------:|----:|------:|----------\n",
    "|         1|Av. Brigadeiro Faria Lima, 2170|SP   |Brazil |   12227000\n",
    "|        12|Praça Pio X, 119               |RJ   |Brazil |   20040020\n",
    "|        13|Qe 7 Bloco G                   |DF   |Brazil |   71020677\n",
    "|        20|541 Del Medio Avenue           |CA   |USA    |   94040111\n",
    "\n",
    "Na célula onde se encontra o `%%sql`, escreva sua query, sem deletar o comando. Exemplo:  \n",
    "```python\n",
    "%%sql\n",
    "select * from Customer\n",
    "```\n",
    "\n",
    "Para resolução utilize esse link: https://www.tutlane.com/tutorial/sqlite"
   ]
  },
  {
   "cell_type": "code",
   "execution_count": null,
   "id": "981a5488",
   "metadata": {},
   "outputs": [],
   "source": [
    "%load_ext sql\n",
    "%sql sqlite://///tmp/github/30-day-challenges-with-sql/challenges/utils/db/database.db3"
   ]
  },
  {
   "cell_type": "markdown",
   "id": "c6ebcde6",
   "metadata": {},
   "source": [
    "explicação da implementação do código\n",
    "...."
   ]
  },
  {
   "cell_type": "code",
   "execution_count": null,
   "id": "275157e9",
   "metadata": {},
   "outputs": [],
   "source": [
    "%%sql\n"
   ]
  }
 ],
 "metadata": {
  "kernelspec": {
   "display_name": "Python 3",
   "language": "python",
   "name": "python3"
  },
  "language_info": {
   "codemirror_mode": {
    "name": "ipython",
    "version": 3
   },
   "file_extension": ".py",
   "mimetype": "text/x-python",
   "name": "python",
   "nbconvert_exporter": "python",
   "pygments_lexer": "ipython3",
   "version": "3.10.4"
  }
 },
 "nbformat": 4,
 "nbformat_minor": 5
}
