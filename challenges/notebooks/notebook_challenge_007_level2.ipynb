{
 "cells": [
  {
   "cell_type": "markdown",
   "id": "160bbfb2",
   "metadata": {},
   "source": [
    "# Por favor tente resolver o desafio sozinho, não pegue atalhos, tu consegue, é só colocar a cabeça para funcionar."
   ]
  },
  {
   "cell_type": "markdown",
   "id": "e0e85531",
   "metadata": {},
   "source": [
    "Execute a célula abaixo apenas uma vez."
   ]
  },
  {
   "cell_type": "code",
   "execution_count": null,
   "id": "7d725090",
   "metadata": {},
   "outputs": [],
   "source": [
    "%%bash\n",
    "\n",
    "rm -rf /tmp/github; mkdir -p /tmp/github; cd /tmp/github\n",
    "git clone https://github.com/romeritomorais/30-day-challenges-with-sql.git\n",
    "sh /tmp/github/30-day-challenges-with-sql/challenges/utils/install-miniconda.sh > /dev/null 2>&1\n",
    "sh /tmp/github/30-day-challenges-with-sql/challenges/utils/update-miniconda.sh > /dev/null 2>&1\n",
    "sh /tmp/github/30-day-challenges-with-sql/challenges/utils/upgrade-sqlite3.sh > /dev/null 2>&1"
   ]
  },
  {
   "cell_type": "markdown",
   "id": "467f1c4a",
   "metadata": {},
   "source": [
    "Neste desafio precisamos criar uma nova tabela chamada `Track2` oriunda da transformação das tabelas: `Track`, `Album`, `Artist` e `Genre`. Vale lembrar que a tabela `Track` é a tabela da esquerda que será a base para realizarmos os relacionamentos. Utilize JOIN para resolver este problema.\n",
    "\n",
    "Critério:  \n",
    "Escreva essa transformação em apenas uma query. Boa sorte!\n",
    "\n",
    "resultado esperado:  \n",
    "\n",
    "|TrackId|artista             |musica                                      |compositor                                                                 |genero            |size_mb\n",
    "|-------:|-------------------:|-------------------------------------------:|-------------------------------------------------------------------------:|-----------------:|-------\n",
    "|      1|AC/DC               |For Those About To Rock (We Salute You)     |Angus Young, Malcolm Young, Brian Johnson                                  |Rock              |  10908\n",
    "|      2|Accept              |Balls to the Wall                           |                                                                           |Rock              |   5381\n",
    "|      3|Accept              |Fast As a Shark                             |F. Baltes, S. Kaufman, U. Dirkscneider & W. Hoffman                        |Rock              |   3897\n",
    "|     4|Accept              |Restless and Wild                           |F. Baltes, R.A. Smith-Diesel, S. Kaufman, U. Dirkscneider & W. Hoffman     |Rock              |   4230\n",
    "|      5|Accept              |Princess of the Dawn                        |Deaffy & R.A. Smith-Diesel                                                 |Rock              |   6143\n",
    "|      6|AC/DC               |Put The Finger On You                       |Angus Young, Malcolm Young, Brian Johnson                                  |Rock              |   6556\n",
    "|      7|AC/DC               |Let's Get It Up                             |Angus Young, Malcolm Young, Brian Johnson                                  |Rock              |   7457\n",
    "|      8|AC/DC               |Inject The Venom                            |Angus Young, Malcolm Young, Brian Johnson                                  |Rock              |   6692\n",
    "|      9|AC/DC               |Snowballed                                  |Angus Young, Malcolm Young, Brian Johnson                                  |Rock              |   6444\n",
    "|     10|AC/DC               |Evil Walks                                  |Angus Young, Malcolm Young, Brian Johnson                                  |Rock              |   8409\n",
    "|     11|AC/DC               |C.O.D.                                      |Angus Young, Malcolm Young, Brian Johnson                                  |Rock              |   6412\n",
    "|     12|AC/DC               |Breaking The Rules                          |Angus Young, Malcolm Young, Brian Johnson                                  |Rock              |   8395\n",
    "|     13|AC/DC               |Night Of The Long Knives                    |Angus Young, Malcolm Young, Brian Johnson                                  |Rock              |   6549\n",
    "|     14|AC/DC               |Spellbound                                  |Angus Young, Malcolm Young, Brian Johnson                                  |Rock              |   8610\n",
    "|     15|AC/DC               |Go Down                                     |AC/DC                                                                      |Rock              |  10593\n",
    "|     16|AC/DC               |Dog Eat Dog                                 |AC/DC                                                                      |Rock              |   6867\n",
    "|     17|AC/DC               |Let There Be Rock                           |AC/DC                                                                      |Rock              |  11739\n",
    "|     18|AC/DC               |Bad Boy Boogie                              |AC/DC                                                                      |Rock              |   8570\n",
    "|     19|AC/DC               |Problem Child                               |AC/DC                                                                      |Rock              |  10368\n",
    "|     20|AC/DC               |Overdose                                    |AC/DC                                                                      |Rock              |  11783\n",
    "|     21|AC/DC               |Hell Ain't A Bad Place To Be                |AC/DC                                                                      |Rock              |   8136\n",
    "\n",
    "Na célula onde se encontra o `%%sql`, escreva sua query, sem deletar o comando. Exemplo:  \n",
    "```python\n",
    "%%sql\n",
    "select * from Customer\n",
    "```\n",
    "\n",
    "Para resolução utilize esse link: https://www.tutlane.com/tutorial/sqlite"
   ]
  },
  {
   "cell_type": "code",
   "execution_count": null,
   "id": "2b36ffcd-323a-452a-a6a1-433be0285405",
   "metadata": {},
   "outputs": [],
   "source": [
    "%load_ext sql\n",
    "%sql sqlite://///tmp/github/30-day-challenges-with-sql/challenges/utils/db/database.db3"
   ]
  },
  {
   "cell_type": "markdown",
   "id": "245c7915",
   "metadata": {},
   "source": [
    "explicação da implementação do código\n",
    "...."
   ]
  },
  {
   "cell_type": "code",
   "execution_count": null,
   "id": "275157e9",
   "metadata": {},
   "outputs": [],
   "source": [
    "%%sql\n"
   ]
  }
 ],
 "metadata": {
  "kernelspec": {
   "display_name": "Python 3",
   "language": "python",
   "name": "python3"
  },
  "language_info": {
   "codemirror_mode": {
    "name": "ipython",
    "version": 3
   },
   "file_extension": ".py",
   "mimetype": "text/x-python",
   "name": "python",
   "nbconvert_exporter": "python",
   "pygments_lexer": "ipython3",
   "version": "3.10.4"
  }
 },
 "nbformat": 4,
 "nbformat_minor": 5
}
