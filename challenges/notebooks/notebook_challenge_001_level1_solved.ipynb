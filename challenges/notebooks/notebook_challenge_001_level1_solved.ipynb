{
  "cells": [
    {
      "cell_type": "markdown",
      "id": "bc8a16a6",
      "metadata": {
        "id": "bc8a16a6"
      },
      "source": [
        "\n",
        "# Por favor tente resolver o desafio sozinho, não pegue atalhos, tu consegue, é só colocar a cabeça para funcionar."
      ]
    },
    {
      "cell_type": "markdown",
      "id": "4ffaa676",
      "metadata": {
        "id": "4ffaa676"
      },
      "source": [
        "Execute a célula abaixo apenas uma vez."
      ]
    },
    {
      "cell_type": "code",
      "execution_count": 1,
      "id": "b2be889b",
      "metadata": {
        "colab": {
          "base_uri": "https://localhost:8080/"
        },
        "id": "b2be889b",
        "outputId": "a88c875a-a0fb-49f4-f6ab-bb9e3bb7292e"
      },
      "outputs": [
        {
          "output_type": "stream",
          "name": "stderr",
          "text": [
            "Cloning into '30-day-challenges-with-sql'...\n"
          ]
        }
      ],
      "source": [
        "%%bash\n",
        "\n",
        "rm -rf /tmp/github; mkdir -p /tmp/github; cd /tmp/github\n",
        "git clone https://github.com/romeritomorais/30-day-challenges-with-sql.git\n",
        "sh /tmp/github/30-day-challenges-with-sql/challenges/utils/install-miniconda.sh > /dev/null 2>&1\n",
        "sh /tmp/github/30-day-challenges-with-sql/challenges/utils/update-miniconda.sh > /dev/null 2>&1"
      ]
    },
    {
      "cell_type": "markdown",
      "id": "7b62dd5e",
      "metadata": {
        "id": "7b62dd5e"
      },
      "source": [
        "Nesse primeiro desafio super fácil, eu preciso apenas dos registros do campo Email da tabela Customers onde o domínio seja da `apple`,\n",
        "tu vai criar uma query que traga esse resultado e uma breve explicação da implementação do código e descrever a query abaixo:\n",
        "\n",
        "\n",
        "Resultado esperado:  \n",
        "\n",
        "Email |\n",
        "-|\n",
        "astrid.gruber@apple.at| \n",
        "daan_peeters@apple.be| \n",
        "tgoyer@apple.com| \n",
        "isabelle_mercier@apple.fr| \n",
        "terhi.hamalainen@apple.fi| \n",
        "ladislav_kovacs@apple.hu| \n",
        "hughoreilly@apple.ie| \n",
        "\n",
        "Na celula onde tem `%%sql` tu vai escrever a query abaixo dela, exemplo:  \n",
        "```python\n",
        "%%sql\n",
        "select * from Customer\n",
        "```\n",
        "\n",
        "Para resolução tu podes usar a documentação do sqlite:https://www.sqlite.org/docs.html"
      ]
    },
    {
      "cell_type": "code",
      "execution_count": 2,
      "id": "78b7cbdc",
      "metadata": {
        "colab": {
          "base_uri": "https://localhost:8080/",
          "height": 35
        },
        "id": "78b7cbdc",
        "outputId": "fc20d19f-29c1-4c8a-dc0d-49c79b434db4"
      },
      "outputs": [
        {
          "output_type": "execute_result",
          "data": {
            "text/plain": [
              "'Connected: @//tmp/github/30-day-challenges-with-sql/challenges/utils/db/database.db'"
            ],
            "application/vnd.google.colaboratory.intrinsic+json": {
              "type": "string"
            }
          },
          "metadata": {},
          "execution_count": 2
        }
      ],
      "source": [
        "%load_ext sql\n",
        "%sql sqlite://///tmp/github/30-day-challenges-with-sql/challenges/utils/db/database.db"
      ]
    },
    {
      "cell_type": "markdown",
      "id": "be967233",
      "metadata": {
        "id": "be967233"
      },
      "source": [
        "explicação da implementação do código\n",
        "...."
      ]
    },
    {
      "cell_type": "code",
      "execution_count": 5,
      "id": "4aba4071",
      "metadata": {
        "colab": {
          "base_uri": "https://localhost:8080/",
          "height": 329
        },
        "id": "4aba4071",
        "outputId": "ba6175f1-cb59-4bf9-a99b-8350f69df5aa"
      },
      "outputs": [
        {
          "output_type": "stream",
          "name": "stdout",
          "text": [
            " * sqlite://///tmp/github/30-day-challenges-with-sql/challenges/utils/db/database.db\n",
            "Done.\n"
          ]
        },
        {
          "output_type": "execute_result",
          "data": {
            "text/plain": [
              "[(7, 'Astrid', 'Gruber', None, 'Rotenturmstraße 4, 1010 Innere Stadt', 'Vienne', None, 'Austria', '1010', '+43 01 5134505', None, 'astrid.gruber@apple.at', 5),\n",
              " (8, 'Daan', 'Peeters', None, 'Grétrystraat 63', 'Brussels', None, 'Belgium', '1000', '+32 02 219 03 03', None, 'daan_peeters@apple.be', 4),\n",
              " (19, 'Tim', 'Goyer', 'Apple Inc.', '1 Infinite Loop', 'Cupertino', 'CA', 'USA', '95014', '+1 (408) 996-1010', '+1 (408) 996-1011', 'tgoyer@apple.com', 3),\n",
              " (43, 'Isabelle', 'Mercier', None, '68, Rue Jouvence', 'Dijon', None, 'France', '21000', '+33 03 80 73 66 99', None, 'isabelle_mercier@apple.fr', 3),\n",
              " (44, 'Terhi', 'Hämäläinen', None, 'Porthaninkatu 9', 'Helsinki', None, 'Finland', '00530', '+358 09 870 2000', None, 'terhi.hamalainen@apple.fi', 3),\n",
              " (45, 'Ladislav', 'Kovács', None, 'Erzsébet krt. 58.', 'Budapest', None, 'Hungary', 'H-1073', None, None, 'ladislav_kovacs@apple.hu', 3),\n",
              " (46, 'Hugh', \"O'Reilly\", None, '3 Chatham Street', 'Dublin', 'Dublin', 'Ireland', None, '+353 01 6792424', None, 'hughoreilly@apple.ie', 3)]"
            ],
            "text/html": [
              "<table>\n",
              "    <thead>\n",
              "        <tr>\n",
              "            <th>CustomerId</th>\n",
              "            <th>FirstName</th>\n",
              "            <th>LastName</th>\n",
              "            <th>Company</th>\n",
              "            <th>Address</th>\n",
              "            <th>City</th>\n",
              "            <th>State</th>\n",
              "            <th>Country</th>\n",
              "            <th>PostalCode</th>\n",
              "            <th>Phone</th>\n",
              "            <th>Fax</th>\n",
              "            <th>Email</th>\n",
              "            <th>SupportRepId</th>\n",
              "        </tr>\n",
              "    </thead>\n",
              "    <tbody>\n",
              "        <tr>\n",
              "            <td>7</td>\n",
              "            <td>Astrid</td>\n",
              "            <td>Gruber</td>\n",
              "            <td>None</td>\n",
              "            <td>Rotenturmstraße 4, 1010 Innere Stadt</td>\n",
              "            <td>Vienne</td>\n",
              "            <td>None</td>\n",
              "            <td>Austria</td>\n",
              "            <td>1010</td>\n",
              "            <td>+43 01 5134505</td>\n",
              "            <td>None</td>\n",
              "            <td>astrid.gruber@apple.at</td>\n",
              "            <td>5</td>\n",
              "        </tr>\n",
              "        <tr>\n",
              "            <td>8</td>\n",
              "            <td>Daan</td>\n",
              "            <td>Peeters</td>\n",
              "            <td>None</td>\n",
              "            <td>Grétrystraat 63</td>\n",
              "            <td>Brussels</td>\n",
              "            <td>None</td>\n",
              "            <td>Belgium</td>\n",
              "            <td>1000</td>\n",
              "            <td>+32 02 219 03 03</td>\n",
              "            <td>None</td>\n",
              "            <td>daan_peeters@apple.be</td>\n",
              "            <td>4</td>\n",
              "        </tr>\n",
              "        <tr>\n",
              "            <td>19</td>\n",
              "            <td>Tim</td>\n",
              "            <td>Goyer</td>\n",
              "            <td>Apple Inc.</td>\n",
              "            <td>1 Infinite Loop</td>\n",
              "            <td>Cupertino</td>\n",
              "            <td>CA</td>\n",
              "            <td>USA</td>\n",
              "            <td>95014</td>\n",
              "            <td>+1 (408) 996-1010</td>\n",
              "            <td>+1 (408) 996-1011</td>\n",
              "            <td>tgoyer@apple.com</td>\n",
              "            <td>3</td>\n",
              "        </tr>\n",
              "        <tr>\n",
              "            <td>43</td>\n",
              "            <td>Isabelle</td>\n",
              "            <td>Mercier</td>\n",
              "            <td>None</td>\n",
              "            <td>68, Rue Jouvence</td>\n",
              "            <td>Dijon</td>\n",
              "            <td>None</td>\n",
              "            <td>France</td>\n",
              "            <td>21000</td>\n",
              "            <td>+33 03 80 73 66 99</td>\n",
              "            <td>None</td>\n",
              "            <td>isabelle_mercier@apple.fr</td>\n",
              "            <td>3</td>\n",
              "        </tr>\n",
              "        <tr>\n",
              "            <td>44</td>\n",
              "            <td>Terhi</td>\n",
              "            <td>Hämäläinen</td>\n",
              "            <td>None</td>\n",
              "            <td>Porthaninkatu 9</td>\n",
              "            <td>Helsinki</td>\n",
              "            <td>None</td>\n",
              "            <td>Finland</td>\n",
              "            <td>00530</td>\n",
              "            <td>+358 09 870 2000</td>\n",
              "            <td>None</td>\n",
              "            <td>terhi.hamalainen@apple.fi</td>\n",
              "            <td>3</td>\n",
              "        </tr>\n",
              "        <tr>\n",
              "            <td>45</td>\n",
              "            <td>Ladislav</td>\n",
              "            <td>Kovács</td>\n",
              "            <td>None</td>\n",
              "            <td>Erzsébet krt. 58.</td>\n",
              "            <td>Budapest</td>\n",
              "            <td>None</td>\n",
              "            <td>Hungary</td>\n",
              "            <td>H-1073</td>\n",
              "            <td>None</td>\n",
              "            <td>None</td>\n",
              "            <td>ladislav_kovacs@apple.hu</td>\n",
              "            <td>3</td>\n",
              "        </tr>\n",
              "        <tr>\n",
              "            <td>46</td>\n",
              "            <td>Hugh</td>\n",
              "            <td>O&#x27;Reilly</td>\n",
              "            <td>None</td>\n",
              "            <td>3 Chatham Street</td>\n",
              "            <td>Dublin</td>\n",
              "            <td>Dublin</td>\n",
              "            <td>Ireland</td>\n",
              "            <td>None</td>\n",
              "            <td>+353 01 6792424</td>\n",
              "            <td>None</td>\n",
              "            <td>hughoreilly@apple.ie</td>\n",
              "            <td>3</td>\n",
              "        </tr>\n",
              "    </tbody>\n",
              "</table>"
            ]
          },
          "metadata": {},
          "execution_count": 5
        }
      ],
      "source": [
        "%%sql\n",
        "--Uma opção para resolução simples é utilizando o operador 'like' em conjunto com o caracter curinga '%'.\n",
        "select * from Customer\n",
        "where Email like '%@apple%'"
      ]
    },
    {
      "cell_type": "code",
      "source": [
        "%%sql\n",
        "-- Outra opção é utilizando a função INSTR que possui a seguinte estrutura: INSTR( string, substring [, posição_inicial [, th_aparição ] ] )\n",
        "select * from customer\n",
        "where INSTR(email, '@apple') > 0;"
      ],
      "metadata": {
        "id": "XxpwtmJehMfI",
        "outputId": "690309ec-9b58-458d-fbaf-5cc2a6d23577",
        "colab": {
          "base_uri": "https://localhost:8080/",
          "height": 329
        }
      },
      "id": "XxpwtmJehMfI",
      "execution_count": 9,
      "outputs": [
        {
          "output_type": "stream",
          "name": "stdout",
          "text": [
            " * sqlite://///tmp/github/30-day-challenges-with-sql/challenges/utils/db/database.db\n",
            "Done.\n"
          ]
        },
        {
          "output_type": "execute_result",
          "data": {
            "text/plain": [
              "[(7, 'Astrid', 'Gruber', None, 'Rotenturmstraße 4, 1010 Innere Stadt', 'Vienne', None, 'Austria', '1010', '+43 01 5134505', None, 'astrid.gruber@apple.at', 5),\n",
              " (8, 'Daan', 'Peeters', None, 'Grétrystraat 63', 'Brussels', None, 'Belgium', '1000', '+32 02 219 03 03', None, 'daan_peeters@apple.be', 4),\n",
              " (19, 'Tim', 'Goyer', 'Apple Inc.', '1 Infinite Loop', 'Cupertino', 'CA', 'USA', '95014', '+1 (408) 996-1010', '+1 (408) 996-1011', 'tgoyer@apple.com', 3),\n",
              " (43, 'Isabelle', 'Mercier', None, '68, Rue Jouvence', 'Dijon', None, 'France', '21000', '+33 03 80 73 66 99', None, 'isabelle_mercier@apple.fr', 3),\n",
              " (44, 'Terhi', 'Hämäläinen', None, 'Porthaninkatu 9', 'Helsinki', None, 'Finland', '00530', '+358 09 870 2000', None, 'terhi.hamalainen@apple.fi', 3),\n",
              " (45, 'Ladislav', 'Kovács', None, 'Erzsébet krt. 58.', 'Budapest', None, 'Hungary', 'H-1073', None, None, 'ladislav_kovacs@apple.hu', 3),\n",
              " (46, 'Hugh', \"O'Reilly\", None, '3 Chatham Street', 'Dublin', 'Dublin', 'Ireland', None, '+353 01 6792424', None, 'hughoreilly@apple.ie', 3)]"
            ],
            "text/html": [
              "<table>\n",
              "    <thead>\n",
              "        <tr>\n",
              "            <th>CustomerId</th>\n",
              "            <th>FirstName</th>\n",
              "            <th>LastName</th>\n",
              "            <th>Company</th>\n",
              "            <th>Address</th>\n",
              "            <th>City</th>\n",
              "            <th>State</th>\n",
              "            <th>Country</th>\n",
              "            <th>PostalCode</th>\n",
              "            <th>Phone</th>\n",
              "            <th>Fax</th>\n",
              "            <th>Email</th>\n",
              "            <th>SupportRepId</th>\n",
              "        </tr>\n",
              "    </thead>\n",
              "    <tbody>\n",
              "        <tr>\n",
              "            <td>7</td>\n",
              "            <td>Astrid</td>\n",
              "            <td>Gruber</td>\n",
              "            <td>None</td>\n",
              "            <td>Rotenturmstraße 4, 1010 Innere Stadt</td>\n",
              "            <td>Vienne</td>\n",
              "            <td>None</td>\n",
              "            <td>Austria</td>\n",
              "            <td>1010</td>\n",
              "            <td>+43 01 5134505</td>\n",
              "            <td>None</td>\n",
              "            <td>astrid.gruber@apple.at</td>\n",
              "            <td>5</td>\n",
              "        </tr>\n",
              "        <tr>\n",
              "            <td>8</td>\n",
              "            <td>Daan</td>\n",
              "            <td>Peeters</td>\n",
              "            <td>None</td>\n",
              "            <td>Grétrystraat 63</td>\n",
              "            <td>Brussels</td>\n",
              "            <td>None</td>\n",
              "            <td>Belgium</td>\n",
              "            <td>1000</td>\n",
              "            <td>+32 02 219 03 03</td>\n",
              "            <td>None</td>\n",
              "            <td>daan_peeters@apple.be</td>\n",
              "            <td>4</td>\n",
              "        </tr>\n",
              "        <tr>\n",
              "            <td>19</td>\n",
              "            <td>Tim</td>\n",
              "            <td>Goyer</td>\n",
              "            <td>Apple Inc.</td>\n",
              "            <td>1 Infinite Loop</td>\n",
              "            <td>Cupertino</td>\n",
              "            <td>CA</td>\n",
              "            <td>USA</td>\n",
              "            <td>95014</td>\n",
              "            <td>+1 (408) 996-1010</td>\n",
              "            <td>+1 (408) 996-1011</td>\n",
              "            <td>tgoyer@apple.com</td>\n",
              "            <td>3</td>\n",
              "        </tr>\n",
              "        <tr>\n",
              "            <td>43</td>\n",
              "            <td>Isabelle</td>\n",
              "            <td>Mercier</td>\n",
              "            <td>None</td>\n",
              "            <td>68, Rue Jouvence</td>\n",
              "            <td>Dijon</td>\n",
              "            <td>None</td>\n",
              "            <td>France</td>\n",
              "            <td>21000</td>\n",
              "            <td>+33 03 80 73 66 99</td>\n",
              "            <td>None</td>\n",
              "            <td>isabelle_mercier@apple.fr</td>\n",
              "            <td>3</td>\n",
              "        </tr>\n",
              "        <tr>\n",
              "            <td>44</td>\n",
              "            <td>Terhi</td>\n",
              "            <td>Hämäläinen</td>\n",
              "            <td>None</td>\n",
              "            <td>Porthaninkatu 9</td>\n",
              "            <td>Helsinki</td>\n",
              "            <td>None</td>\n",
              "            <td>Finland</td>\n",
              "            <td>00530</td>\n",
              "            <td>+358 09 870 2000</td>\n",
              "            <td>None</td>\n",
              "            <td>terhi.hamalainen@apple.fi</td>\n",
              "            <td>3</td>\n",
              "        </tr>\n",
              "        <tr>\n",
              "            <td>45</td>\n",
              "            <td>Ladislav</td>\n",
              "            <td>Kovács</td>\n",
              "            <td>None</td>\n",
              "            <td>Erzsébet krt. 58.</td>\n",
              "            <td>Budapest</td>\n",
              "            <td>None</td>\n",
              "            <td>Hungary</td>\n",
              "            <td>H-1073</td>\n",
              "            <td>None</td>\n",
              "            <td>None</td>\n",
              "            <td>ladislav_kovacs@apple.hu</td>\n",
              "            <td>3</td>\n",
              "        </tr>\n",
              "        <tr>\n",
              "            <td>46</td>\n",
              "            <td>Hugh</td>\n",
              "            <td>O&#x27;Reilly</td>\n",
              "            <td>None</td>\n",
              "            <td>3 Chatham Street</td>\n",
              "            <td>Dublin</td>\n",
              "            <td>Dublin</td>\n",
              "            <td>Ireland</td>\n",
              "            <td>None</td>\n",
              "            <td>+353 01 6792424</td>\n",
              "            <td>None</td>\n",
              "            <td>hughoreilly@apple.ie</td>\n",
              "            <td>3</td>\n",
              "        </tr>\n",
              "    </tbody>\n",
              "</table>"
            ]
          },
          "metadata": {},
          "execution_count": 9
        }
      ]
    },
    {
      "cell_type": "markdown",
      "source": [
        "Ambas as opções são cabíveis no caso do nosso dataset e a escolha de uma ou outra é indiferente. Contudo, dependendo do tamanho da base de dados é valido verificar quais das opções é mais perfomática a fim de entregar o melhor resultado."
      ],
      "metadata": {
        "id": "VgkkPHOzivzV"
      },
      "id": "VgkkPHOzivzV"
    }
  ],
  "metadata": {
    "kernelspec": {
      "display_name": "Python 3",
      "language": "python",
      "name": "python3"
    },
    "language_info": {
      "codemirror_mode": {
        "name": "ipython",
        "version": 3
      },
      "file_extension": ".py",
      "mimetype": "text/x-python",
      "name": "python",
      "nbconvert_exporter": "python",
      "pygments_lexer": "ipython3",
      "version": "3.10.4"
    },
    "colab": {
      "name": "notebook_challenge_001_level1.ipynb",
      "provenance": []
    }
  },
  "nbformat": 4,
  "nbformat_minor": 5
}