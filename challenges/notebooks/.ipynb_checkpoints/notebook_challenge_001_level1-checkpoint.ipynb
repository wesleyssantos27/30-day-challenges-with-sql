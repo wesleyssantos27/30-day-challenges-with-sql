{
 "cells": [
  {
   "cell_type": "markdown",
   "id": "bc8a16a6",
   "metadata": {},
   "source": [
    "\n",
    "# Por favor tente resolver o desafio sozinho, não pegue atalhos, tu consegue, é só colocar a cabeça para funcionar."
   ]
  },
  {
   "cell_type": "markdown",
   "id": "4ffaa676",
   "metadata": {},
   "source": [
    "Execute a célula abaixo apenas uma vez."
   ]
  },
  {
   "cell_type": "code",
   "execution_count": null,
   "id": "b2be889b",
   "metadata": {},
   "outputs": [],
   "source": [
    "%%bash\n",
    "\n",
    "rm -rf /tmp/github; mkdir -p /tmp/github; cd /tmp/github\n",
    "git clone https://github.com/romeritomorais/30-day-challenges-with-sql.git\n",
    "sh /tmp/github/30-day-challenges-with-sql/challenges/utils/install-miniconda.sh > /dev/null 2>&1\n",
    "sh /tmp/github/30-day-challenges-with-sql/challenges/utils/update-miniconda.sh > /dev/null 2>&1\n",
    "sh /tmp/github/30-day-challenges-with-sql/challenges/utils/upgrade-sqlite3.sh > /dev/null 2>&1"
   ]
  },
  {
   "cell_type": "markdown",
   "id": "7b62dd5e",
   "metadata": {},
   "source": [
    "Neste primeiro desafio super fácil, precisamos apenas dos registros do campo `Email` da tabela Customers onde o domínio seja da `apple`.\n",
    "Crie uma query que retorne esse resultado e escreva uma breve explicação do código implementado:\n",
    "\n",
    "\n",
    "Resultado esperado:  \n",
    "\n",
    "Email |\n",
    "-|\n",
    "astrid.gruber@apple.at| \n",
    "daan_peeters@apple.be| \n",
    "tgoyer@apple.com| \n",
    "isabelle_mercier@apple.fr| \n",
    "terhi.hamalainen@apple.fi| \n",
    "ladislav_kovacs@apple.hu| \n",
    "hughoreilly@apple.ie| \n",
    "\n",
    "Na célula onde se encontra o `%%sql`, escreva sua query, sem deletar o comando. Exemplo:  \n",
    "```python\n",
    "%%sql\n",
    "select * from Customer\n",
    "```\n",
    "\n",
    "Para resolução utilize esse link: https://www.tutlane.com/tutorial/sqlite"
   ]
  },
  {
   "cell_type": "code",
   "execution_count": null,
   "id": "78b7cbdc",
   "metadata": {},
   "outputs": [],
   "source": [
    "%load_ext sql\n",
    "%sql sqlite://///tmp/github/30-day-challenges-with-sql/challenges/utils/db/database.db3"
   ]
  },
  {
   "cell_type": "markdown",
   "id": "be967233",
   "metadata": {},
   "source": [
    "explicação da implementação do código\n",
    "...."
   ]
  },
  {
   "cell_type": "code",
   "execution_count": null,
   "id": "4aba4071",
   "metadata": {},
   "outputs": [],
   "source": [
    "%%sql\n"
   ]
  }
 ],
 "metadata": {
  "kernelspec": {
   "display_name": "Python 3",
   "language": "python",
   "name": "python3"
  },
  "language_info": {
   "codemirror_mode": {
    "name": "ipython",
    "version": 3
   },
   "file_extension": ".py",
   "mimetype": "text/x-python",
   "name": "python",
   "nbconvert_exporter": "python",
   "pygments_lexer": "ipython3",
   "version": "3.10.4"
  }
 },
 "nbformat": 4,
 "nbformat_minor": 5
}
