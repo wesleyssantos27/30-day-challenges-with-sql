{
 "cells": [
  {
   "cell_type": "markdown",
   "id": "160bbfb2",
   "metadata": {},
   "source": [
    "# Por favor tente resolver o desafio sozinho, não pegue atalhos, tu consegue, é só colocar a cabeça para funcionar."
   ]
  },
  {
   "cell_type": "markdown",
   "id": "e0e85531",
   "metadata": {},
   "source": [
    "Execute a célula abaixo apenas uma vez."
   ]
  },
  {
   "cell_type": "code",
   "execution_count": null,
   "id": "7d725090",
   "metadata": {},
   "outputs": [],
   "source": [
    "%%bash\n",
    "\n",
    "rm -rf /tmp/github; mkdir -p /tmp/github; cd /tmp/github\n",
    "git clone https://github.com/romeritomorais/30-day-challenges-with-sql.git\n",
    "sh /tmp/github/30-day-challenges-with-sql/challenges/utils/install-miniconda.sh > /dev/null 2>&1\n",
    "sh /tmp/github/30-day-challenges-with-sql/challenges/utils/update-miniconda.sh > /dev/null 2>&1\n",
    "sh /tmp/github/30-day-challenges-with-sql/challenges/utils/upgrade-sqlite3.sh > /dev/null 2>&1"
   ]
  },
  {
   "cell_type": "markdown",
   "id": "467f1c4a",
   "metadata": {},
   "source": [
    "Neste desafio precisamos que seja feito uma operação de `UPDATE` na coluna `Customer.Company` onde o campo  `Customer.Company` nullo recebe o valor \"xxxxxxxxxxxx\"\n",
    "\n",
    "Critério:  \n",
    "Escreva essa transformação em apenas uma query. Boa sorte!\n",
    "\n",
    "resultado esperado:  \n",
    "\n",
    "|CustomerId|FirstName|LastName    |Company                                         |Address         \n",
    "|---------:|--------:|------------:|-----------------------------------------------:|----------------\n",
    "|         1|Luís     |Gonçalves   |Embraer - Empresa Brasileira de Aeronáutica S.A.|Av. Brigadeiro F\n",
    "|         2|Leonie   |Köhler      |xxxxxxxxxxxx                                    |Theodor-Heuss-St\n",
    "|         3|François |Tremblay    |xxxxxxxxxxxx                                    |1498 rue Bélange\n",
    "|         4|Bjørn    |Hansen      |xxxxxxxxxxxx                                    |Ullevålsveien 14\n",
    "|         5|František|Wichterlová |JetBrains s.r.o.                                |Klanova 9/506   \n",
    "|         6|Helena   |Holý        |xxxxxxxxxxxx                                    |Rilská 3174/6   \n",
    "|         7|Astrid   |Gruber      |xxxxxxxxxxxx                                    |Rotenturmstraße \n",
    "|         8|Daan     |Peeters     |xxxxxxxxxxxx                                    |Grétrystraat 63 \n",
    "|         9|Kara     |Nielsen     |xxxxxxxxxxxx                                    |Sønder Boulevard\n",
    "|        10|Eduardo  |Martins     |Woodstock Discos                                |Rua Dr. Falcão F\n",
    "|        11|Alexandre|Rocha       |Banco do Brasil S.A.                            |Av. Paulista, 20\n",
    "|        12|Roberto  |Almeida     |Riotur                                          |Praça Pio X, 119\n",
    "\n",
    "Na célula onde se encontra o `%%sql`, escreva sua query, sem deletar o comando. Exemplo:  \n",
    "```python\n",
    "%%sql\n",
    "select * from Customer\n",
    "```\n",
    "\n",
    "Para resolução utilize esse link: https://www.tutlane.com/tutorial/sqlite"
   ]
  },
  {
   "cell_type": "code",
   "execution_count": null,
   "id": "2b36ffcd-323a-452a-a6a1-433be0285405",
   "metadata": {},
   "outputs": [],
   "source": [
    "%load_ext sql\n",
    "%sql sqlite://///tmp/github/30-day-challenges-with-sql/challenges/utils/db/database.db3"
   ]
  },
  {
   "cell_type": "markdown",
   "id": "01ea5c60",
   "metadata": {},
   "source": [
    "explicação da implementação do código\n",
    "...."
   ]
  },
  {
   "cell_type": "code",
   "execution_count": null,
   "id": "275157e9",
   "metadata": {},
   "outputs": [],
   "source": [
    "%%sql\n"
   ]
  }
 ],
 "metadata": {
  "kernelspec": {
   "display_name": "Python 3",
   "language": "python",
   "name": "python3"
  },
  "language_info": {
   "codemirror_mode": {
    "name": "ipython",
    "version": 3
   },
   "file_extension": ".py",
   "mimetype": "text/x-python",
   "name": "python",
   "nbconvert_exporter": "python",
   "pygments_lexer": "ipython3",
   "version": "3.10.4"
  }
 },
 "nbformat": 4,
 "nbformat_minor": 5
}
