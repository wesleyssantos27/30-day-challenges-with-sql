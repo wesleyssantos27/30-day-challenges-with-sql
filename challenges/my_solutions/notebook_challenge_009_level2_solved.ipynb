{
  "cells": [
    {
      "cell_type": "markdown",
      "id": "160bbfb2",
      "metadata": {
        "id": "160bbfb2"
      },
      "source": [
        "# Por favor tente resolver o desafio sozinho, não pegue atalhos, tu consegue, é só colocar a cabeça para funcionar."
      ]
    },
    {
      "cell_type": "markdown",
      "id": "e0e85531",
      "metadata": {
        "id": "e0e85531"
      },
      "source": [
        "Execute a célula abaixo apenas uma vez."
      ]
    },
    {
      "cell_type": "code",
      "execution_count": 1,
      "id": "7d725090",
      "metadata": {
        "colab": {
          "base_uri": "https://localhost:8080/"
        },
        "id": "7d725090",
        "outputId": "40bf2921-3184-41a2-cdc4-f4ec96b33c95"
      },
      "outputs": [
        {
          "output_type": "stream",
          "name": "stderr",
          "text": [
            "Cloning into '30-day-challenges-with-sql'...\n"
          ]
        }
      ],
      "source": [
        "%%bash\n",
        "\n",
        "rm -rf /tmp/github; mkdir -p /tmp/github; cd /tmp/github\n",
        "git clone https://github.com/romeritomorais/30-day-challenges-with-sql.git\n",
        "sh /tmp/github/30-day-challenges-with-sql/challenges/utils/install-miniconda.sh > /dev/null 2>&1\n",
        "sh /tmp/github/30-day-challenges-with-sql/challenges/utils/update-miniconda.sh > /dev/null 2>&1\n",
        "sh /tmp/github/30-day-challenges-with-sql/challenges/utils/upgrade-sqlite3.sh > /dev/null 2>&1"
      ]
    },
    {
      "cell_type": "markdown",
      "id": "467f1c4a",
      "metadata": {
        "id": "467f1c4a"
      },
      "source": [
        "Neste desafio precisamos que seja feito uma operação de `UPDATE` na coluna `Customer.Company` onde o campo  `Customer.Company` nullo recebe o valor \"xxxxxxxxxxxx\"\n",
        "\n",
        "Critério:  \n",
        "Escreva essa transformação em apenas uma query. Boa sorte!\n",
        "\n",
        "resultado esperado:  \n",
        "\n",
        "|CustomerId|FirstName|LastName    |Company                                         |Address         \n",
        "|---------:|--------:|------------:|-----------------------------------------------:|----------------\n",
        "|         1|Luís     |Gonçalves   |Embraer - Empresa Brasileira de Aeronáutica S.A.|Av. Brigadeiro F\n",
        "|         2|Leonie   |Köhler      |xxxxxxxxxxxx                                    |Theodor-Heuss-St\n",
        "|         3|François |Tremblay    |xxxxxxxxxxxx                                    |1498 rue Bélange\n",
        "|         4|Bjørn    |Hansen      |xxxxxxxxxxxx                                    |Ullevålsveien 14\n",
        "|         5|František|Wichterlová |JetBrains s.r.o.                                |Klanova 9/506   \n",
        "|         6|Helena   |Holý        |xxxxxxxxxxxx                                    |Rilská 3174/6   \n",
        "|         7|Astrid   |Gruber      |xxxxxxxxxxxx                                    |Rotenturmstraße \n",
        "|         8|Daan     |Peeters     |xxxxxxxxxxxx                                    |Grétrystraat 63 \n",
        "|         9|Kara     |Nielsen     |xxxxxxxxxxxx                                    |Sønder Boulevard\n",
        "|        10|Eduardo  |Martins     |Woodstock Discos                                |Rua Dr. Falcão F\n",
        "|        11|Alexandre|Rocha       |Banco do Brasil S.A.                            |Av. Paulista, 20\n",
        "|        12|Roberto  |Almeida     |Riotur                                          |Praça Pio X, 119\n",
        "\n",
        "Na célula onde se encontra o `%%sql`, escreva sua query, sem deletar o comando. Exemplo:  \n",
        "```python\n",
        "%%sql\n",
        "select * from Customer\n",
        "```\n",
        "\n",
        "Para resolução utilize esse link: https://www.tutlane.com/tutorial/sqlite"
      ]
    },
    {
      "cell_type": "code",
      "execution_count": 2,
      "id": "2b36ffcd-323a-452a-a6a1-433be0285405",
      "metadata": {
        "colab": {
          "base_uri": "https://localhost:8080/",
          "height": 35
        },
        "id": "2b36ffcd-323a-452a-a6a1-433be0285405",
        "outputId": "b0de9577-0b38-42fb-fa12-9f722602b5fb"
      },
      "outputs": [
        {
          "output_type": "execute_result",
          "data": {
            "text/plain": [
              "'Connected: @//tmp/github/30-day-challenges-with-sql/challenges/utils/db/database.db3'"
            ],
            "application/vnd.google.colaboratory.intrinsic+json": {
              "type": "string"
            }
          },
          "metadata": {},
          "execution_count": 2
        }
      ],
      "source": [
        "%load_ext sql\n",
        "%sql sqlite://///tmp/github/30-day-challenges-with-sql/challenges/utils/db/database.db3"
      ]
    },
    {
      "cell_type": "markdown",
      "id": "01ea5c60",
      "metadata": {
        "id": "01ea5c60"
      },
      "source": [
        "explicação da implementação do código\n",
        "...."
      ]
    },
    {
      "cell_type": "code",
      "execution_count": 8,
      "id": "275157e9",
      "metadata": {
        "colab": {
          "base_uri": "https://localhost:8080/"
        },
        "id": "275157e9",
        "outputId": "153498f0-6c5b-46c6-b776-664245b4966f"
      },
      "outputs": [
        {
          "output_type": "stream",
          "name": "stdout",
          "text": [
            " * sqlite://///tmp/github/30-day-challenges-with-sql/challenges/utils/db/database.db3\n",
            "Done.\n"
          ]
        },
        {
          "output_type": "execute_result",
          "data": {
            "text/plain": [
              "[]"
            ]
          },
          "metadata": {},
          "execution_count": 8
        }
      ],
      "source": [
        "%%sql\n",
        "--Execução do update\n",
        "update customer\n",
        "set company = 'xxxxxxxxxxxx'\n",
        "where company is null"
      ]
    },
    {
      "cell_type": "code",
      "source": [
        "%%sql\n",
        "--Consulta do resultado confome o \"Resultado esperado\" do enunciado\n",
        "select CustomerId, FirstName, LastName, Company, Address from Customer\n",
        "limit 12"
      ],
      "metadata": {
        "colab": {
          "base_uri": "https://localhost:8080/",
          "height": 331
        },
        "id": "Yjrlz1oROEpm",
        "outputId": "a2d967a2-ca52-4547-aba1-68589769b419"
      },
      "id": "Yjrlz1oROEpm",
      "execution_count": 9,
      "outputs": [
        {
          "output_type": "stream",
          "name": "stdout",
          "text": [
            " * sqlite://///tmp/github/30-day-challenges-with-sql/challenges/utils/db/database.db3\n",
            "Done.\n"
          ]
        },
        {
          "output_type": "execute_result",
          "data": {
            "text/plain": [
              "[(1, 'Luís', 'Gonçalves', 'Embraer - Empresa Brasileira de Aeronáutica S.A.', 'Av. Brigadeiro Faria Lima, 2170'),\n",
              " (2, 'Leonie', 'Köhler', 'xxxxxxxxxxxx', 'Theodor-Heuss-Straße 34'),\n",
              " (3, 'François', 'Tremblay', 'xxxxxxxxxxxx', '1498 rue Bélanger'),\n",
              " (4, 'Bjørn', 'Hansen', 'xxxxxxxxxxxx', 'Ullevålsveien 14'),\n",
              " (5, 'František', 'Wichterlová', 'JetBrains s.r.o.', 'Klanova 9/506'),\n",
              " (6, 'Helena', 'Holý', 'xxxxxxxxxxxx', 'Rilská 3174/6'),\n",
              " (7, 'Astrid', 'Gruber', 'xxxxxxxxxxxx', 'Rotenturmstraße 4, 1010 Innere Stadt'),\n",
              " (8, 'Daan', 'Peeters', 'xxxxxxxxxxxx', 'Grétrystraat 63'),\n",
              " (9, 'Kara', 'Nielsen', 'xxxxxxxxxxxx', 'Sønder Boulevard 51'),\n",
              " (10, 'Eduardo', 'Martins', 'Woodstock Discos', 'Rua Dr. Falcão Filho, 155'),\n",
              " (11, 'Alexandre', 'Rocha', 'Banco do Brasil S.A.', 'Av. Paulista, 2022'),\n",
              " (12, 'Roberto', 'Almeida', 'Riotur', 'Praça Pio X, 119')]"
            ],
            "text/html": [
              "<table>\n",
              "    <thead>\n",
              "        <tr>\n",
              "            <th>CustomerId</th>\n",
              "            <th>FirstName</th>\n",
              "            <th>LastName</th>\n",
              "            <th>Company</th>\n",
              "            <th>Address</th>\n",
              "        </tr>\n",
              "    </thead>\n",
              "    <tbody>\n",
              "        <tr>\n",
              "            <td>1</td>\n",
              "            <td>Luís</td>\n",
              "            <td>Gonçalves</td>\n",
              "            <td>Embraer - Empresa Brasileira de Aeronáutica S.A.</td>\n",
              "            <td>Av. Brigadeiro Faria Lima, 2170</td>\n",
              "        </tr>\n",
              "        <tr>\n",
              "            <td>2</td>\n",
              "            <td>Leonie</td>\n",
              "            <td>Köhler</td>\n",
              "            <td>xxxxxxxxxxxx</td>\n",
              "            <td>Theodor-Heuss-Straße 34</td>\n",
              "        </tr>\n",
              "        <tr>\n",
              "            <td>3</td>\n",
              "            <td>François</td>\n",
              "            <td>Tremblay</td>\n",
              "            <td>xxxxxxxxxxxx</td>\n",
              "            <td>1498 rue Bélanger</td>\n",
              "        </tr>\n",
              "        <tr>\n",
              "            <td>4</td>\n",
              "            <td>Bjørn</td>\n",
              "            <td>Hansen</td>\n",
              "            <td>xxxxxxxxxxxx</td>\n",
              "            <td>Ullevålsveien 14</td>\n",
              "        </tr>\n",
              "        <tr>\n",
              "            <td>5</td>\n",
              "            <td>František</td>\n",
              "            <td>Wichterlová</td>\n",
              "            <td>JetBrains s.r.o.</td>\n",
              "            <td>Klanova 9/506</td>\n",
              "        </tr>\n",
              "        <tr>\n",
              "            <td>6</td>\n",
              "            <td>Helena</td>\n",
              "            <td>Holý</td>\n",
              "            <td>xxxxxxxxxxxx</td>\n",
              "            <td>Rilská 3174/6</td>\n",
              "        </tr>\n",
              "        <tr>\n",
              "            <td>7</td>\n",
              "            <td>Astrid</td>\n",
              "            <td>Gruber</td>\n",
              "            <td>xxxxxxxxxxxx</td>\n",
              "            <td>Rotenturmstraße 4, 1010 Innere Stadt</td>\n",
              "        </tr>\n",
              "        <tr>\n",
              "            <td>8</td>\n",
              "            <td>Daan</td>\n",
              "            <td>Peeters</td>\n",
              "            <td>xxxxxxxxxxxx</td>\n",
              "            <td>Grétrystraat 63</td>\n",
              "        </tr>\n",
              "        <tr>\n",
              "            <td>9</td>\n",
              "            <td>Kara</td>\n",
              "            <td>Nielsen</td>\n",
              "            <td>xxxxxxxxxxxx</td>\n",
              "            <td>Sønder Boulevard 51</td>\n",
              "        </tr>\n",
              "        <tr>\n",
              "            <td>10</td>\n",
              "            <td>Eduardo</td>\n",
              "            <td>Martins</td>\n",
              "            <td>Woodstock Discos</td>\n",
              "            <td>Rua Dr. Falcão Filho, 155</td>\n",
              "        </tr>\n",
              "        <tr>\n",
              "            <td>11</td>\n",
              "            <td>Alexandre</td>\n",
              "            <td>Rocha</td>\n",
              "            <td>Banco do Brasil S.A.</td>\n",
              "            <td>Av. Paulista, 2022</td>\n",
              "        </tr>\n",
              "        <tr>\n",
              "            <td>12</td>\n",
              "            <td>Roberto</td>\n",
              "            <td>Almeida</td>\n",
              "            <td>Riotur</td>\n",
              "            <td>Praça Pio X, 119</td>\n",
              "        </tr>\n",
              "    </tbody>\n",
              "</table>"
            ]
          },
          "metadata": {},
          "execution_count": 9
        }
      ]
    }
  ],
  "metadata": {
    "kernelspec": {
      "display_name": "Python 3",
      "language": "python",
      "name": "python3"
    },
    "language_info": {
      "codemirror_mode": {
        "name": "ipython",
        "version": 3
      },
      "file_extension": ".py",
      "mimetype": "text/x-python",
      "name": "python",
      "nbconvert_exporter": "python",
      "pygments_lexer": "ipython3",
      "version": "3.10.4"
    },
    "colab": {
      "name": "notebook_challenge_009_level2.ipynb",
      "provenance": []
    }
  },
  "nbformat": 4,
  "nbformat_minor": 5
}